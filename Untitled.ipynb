{
 "cells": [
  {
   "cell_type": "code",
   "execution_count": 2,
   "metadata": {
    "ExecuteTime": {
     "end_time": "2019-09-18T16:55:11.583746Z",
     "start_time": "2019-09-18T16:55:06.050937Z"
    }
   },
   "outputs": [
    {
     "name": "stdout",
     "output_type": "stream",
     "text": [
      "1\n",
      "1 2 \n",
      "0 1 1 1\n",
      "2\n",
      "-1\n"
     ]
    }
   ],
   "source": [
    "from itertools import permutations\n",
    "num = int(input())\n",
    "values = input()\n",
    "raw_ops = [int(x) for x in input().split()]\n",
    "ops = '+'*raw_ops[0]+'-'*raw_ops[1]+'*'*raw_ops[2]+'/'*raw_ops[3]\n",
    "maxNum = -1000000000\n",
    "minNum = 1000000000\n",
    "for case in permutations(ops):\n",
    "    result = values[0]\n",
    "    for i, n in enumerate(values.split()[1:]):\n",
    "        result = str(int(eval(result+case[i]+n)))\n",
    "    result = int(result)\n",
    "    if result > maxNum:\n",
    "        maxNum = result\n",
    "    if result < minNum:\n",
    "        minNum = result\n",
    "\n",
    "print(maxNum)\n",
    "print(minNum)"
   ]
  },
  {
   "cell_type": "code",
   "execution_count": 17,
   "metadata": {
    "ExecuteTime": {
     "end_time": "2019-09-18T18:05:28.582977Z",
     "start_time": "2019-09-18T18:05:23.352011Z"
    }
   },
   "outputs": [
    {
     "name": "stdout",
     "output_type": "stream",
     "text": [
      "6\n",
      "1 2 3 4 5 6\n",
      "2 1 1 1\n",
      "54\n",
      "-24\n"
     ]
    }
   ],
   "source": [
    "num = int(input())\n",
    "values = [int(x) for x in input().split()]\n",
    "ops = [int(x) for x in input().split()]\n",
    "\n",
    "maxNum = -1000000000\n",
    "minNum = 1000000000\n",
    "\n",
    "\n",
    "def solution(x, curSum):\n",
    "    global maxNum, minNum, ops, values, num\n",
    "    for i in range(4):\n",
    "        if ops[i] != 0:\n",
    "            ops[i] -= 1\n",
    "            if i == 0:\n",
    "                solution(x+1, curSum+values[x])\n",
    "            elif i == 1:\n",
    "                solution(x+1, curSum-values[x])\n",
    "            elif i == 2:\n",
    "                solution(x+1, curSum*values[x])\n",
    "            elif i == 3:\n",
    "                solution(x+1, int(curSum/values[x]))\n",
    "            ops[i] += 1\n",
    "\n",
    "    if x == num:\n",
    "        if curSum > maxNum:\n",
    "            maxNum = curSum\n",
    "        if curSum < minNum:\n",
    "            minNum = curSum\n",
    "\n",
    "solution(1, values[0])\n",
    "\n",
    "print(maxNum)\n",
    "print(minNum)"
   ]
  },
  {
   "cell_type": "code",
   "execution_count": 3,
   "metadata": {
    "ExecuteTime": {
     "end_time": "2019-09-19T16:32:54.509346Z",
     "start_time": "2019-09-19T16:32:54.501351Z"
    }
   },
   "outputs": [],
   "source": [
    "from collections import defaultdict\n",
    "def solution(genres, plays):\n",
    "    genreCnt = defaultdict(int)\n",
    "    for i, n in enumerate(plays):\n",
    "        genreCnt[genres[i]] += n\n",
    "    # 1. 장르별 재생수\n",
    "    genreCnt.sort()\n",
    "    # 2. 곡별 재생수, 재생수 같으면 인덱스 순\n",
    "    answer = []\n",
    "    return answer"
   ]
  },
  {
   "cell_type": "code",
   "execution_count": 11,
   "metadata": {
    "ExecuteTime": {
     "end_time": "2019-09-19T16:59:31.822450Z",
     "start_time": "2019-09-19T16:59:31.816451Z"
    }
   },
   "outputs": [],
   "source": [
    "genreCnt = defaultdict(int)\n",
    "genreCnt[1] = 1\n",
    "genreCnt[2] = 1\n",
    "max()"
   ]
  },
  {
   "cell_type": "code",
   "execution_count": 10,
   "metadata": {
    "ExecuteTime": {
     "end_time": "2019-09-20T12:26:08.084352Z",
     "start_time": "2019-09-20T12:26:08.075358Z"
    }
   },
   "outputs": [
    {
     "data": {
      "text/plain": [
       "[[2, 3], [4, 2]]"
      ]
     },
     "execution_count": 10,
     "metadata": {},
     "output_type": "execute_result"
    }
   ],
   "source": [
    "import heapq\n",
    "a = [[4,2],[2,3]]\n",
    "heapq.heapify(a)\n",
    "a"
   ]
  },
  {
   "cell_type": "code",
   "execution_count": 11,
   "metadata": {
    "ExecuteTime": {
     "end_time": "2019-09-20T12:54:06.801481Z",
     "start_time": "2019-09-20T12:54:06.784495Z"
    }
   },
   "outputs": [
    {
     "data": {
      "text/plain": [
       "['__about__',\n",
       " '__all__',\n",
       " '__builtins__',\n",
       " '__cached__',\n",
       " '__doc__',\n",
       " '__file__',\n",
       " '__loader__',\n",
       " '__name__',\n",
       " '__package__',\n",
       " '__spec__',\n",
       " '_heapify_max',\n",
       " '_heappop_max',\n",
       " '_heapreplace_max',\n",
       " '_siftdown',\n",
       " '_siftdown_max',\n",
       " '_siftup',\n",
       " '_siftup_max',\n",
       " 'heapify',\n",
       " 'heappop',\n",
       " 'heappush',\n",
       " 'heappushpop',\n",
       " 'heapreplace',\n",
       " 'merge',\n",
       " 'nlargest',\n",
       " 'nsmallest']"
      ]
     },
     "execution_count": 11,
     "metadata": {},
     "output_type": "execute_result"
    }
   ],
   "source": [
    "heapq.heappop()"
   ]
  },
  {
   "cell_type": "code",
   "execution_count": 23,
   "metadata": {
    "ExecuteTime": {
     "end_time": "2019-09-20T16:15:30.324592Z",
     "start_time": "2019-09-20T16:15:30.313599Z"
    }
   },
   "outputs": [
    {
     "data": {
      "text/plain": [
       "[{}, {}, {}, {}]"
      ]
     },
     "execution_count": 23,
     "metadata": {},
     "output_type": "execute_result"
    }
   ],
   "source": [
    "[dict() for _ in range(4)]"
   ]
  },
  {
   "cell_type": "code",
   "execution_count": 25,
   "metadata": {
    "ExecuteTime": {
     "end_time": "2019-09-20T16:16:24.209693Z",
     "start_time": "2019-09-20T16:16:24.204697Z"
    }
   },
   "outputs": [],
   "source": [
    "a = dict()"
   ]
  },
  {
   "cell_type": "code",
   "execution_count": 31,
   "metadata": {
    "ExecuteTime": {
     "end_time": "2019-09-20T16:16:36.883425Z",
     "start_time": "2019-09-20T16:16:36.876433Z"
    }
   },
   "outputs": [],
   "source": [
    "a['a'] =1"
   ]
  },
  {
   "cell_type": "code",
   "execution_count": 32,
   "metadata": {
    "ExecuteTime": {
     "end_time": "2019-09-20T16:16:39.246070Z",
     "start_time": "2019-09-20T16:16:39.238075Z"
    }
   },
   "outputs": [
    {
     "data": {
      "text/plain": [
       "{0: 1, 'a': 1}"
      ]
     },
     "execution_count": 32,
     "metadata": {},
     "output_type": "execute_result"
    }
   ],
   "source": [
    "a"
   ]
  },
  {
   "cell_type": "code",
   "execution_count": 16,
   "metadata": {
    "ExecuteTime": {
     "end_time": "2019-09-22T01:23:20.207786Z",
     "start_time": "2019-09-22T01:23:20.196810Z"
    }
   },
   "outputs": [
    {
     "data": {
      "text/plain": [
       "False"
      ]
     },
     "execution_count": 16,
     "metadata": {},
     "output_type": "execute_result"
    }
   ],
   "source": [
    "list(filter(None, [[],[]]))"
   ]
  },
  {
   "cell_type": "code",
   "execution_count": 29,
   "metadata": {
    "ExecuteTime": {
     "end_time": "2019-09-22T01:42:21.990899Z",
     "start_time": "2019-09-22T01:42:21.983909Z"
    }
   },
   "outputs": [
    {
     "name": "stdout",
     "output_type": "stream",
     "text": [
      "012\n",
      "021\n",
      "102\n",
      "120\n",
      "201\n",
      "210\n"
     ]
    }
   ],
   "source": [
    "from itertools import permutations\n",
    "for i in permutations([0,1,2]):\n",
    "    print(''.join(map(str,i)))"
   ]
  },
  {
   "cell_type": "markdown",
   "metadata": {},
   "source": [
    "line"
   ]
  },
  {
   "cell_type": "code",
   "execution_count": null,
   "metadata": {},
   "outputs": [],
   "source": [
    "message, consumer = map(int, input().strip().split(' '))\n",
    "process = []\n",
    "for _ in range(message):\n",
    "    process.append(int(input()))\n",
    "\n",
    "queueList = [[] for _ in range(consumer)]\n",
    "time = 0\n",
    "for queue in queueList:\n",
    "    if process:\n",
    "        queue.append(process.pop(0))\n",
    "    else:\n",
    "        break\n",
    "\n",
    "while process or list(filter(None, queueList)):\n",
    "    time += 1\n",
    "    for queue in queueList:\n",
    "        if queue:\n",
    "            queue[0] -= 1\n",
    "            if queue[0] == 0:\n",
    "                queue.pop(0)\n",
    "                if process:\n",
    "                    queue.append(process.pop(0))\n",
    "            \n",
    "        \n",
    "\n",
    "print(time)"
   ]
  },
  {
   "cell_type": "code",
   "execution_count": null,
   "metadata": {},
   "outputs": [],
   "source": [
    "from itertools import permutations\n",
    "numbers = list(map(int, input().strip().split()))\n",
    "k = int(input())\n",
    "\n",
    "numbers.sort()\n",
    "\n",
    "for i, v in enumerate(permutations(numbers)):\n",
    "    if i == k-1:\n",
    "        print(''.join(map(str,v)))"
   ]
  },
  {
   "cell_type": "code",
   "execution_count": null,
   "metadata": {},
   "outputs": [],
   "source": [
    "n = int(input())\n",
    "time = []\n",
    "for _ in range(n):\n",
    "    time.append([int(x) for x in input().split()])\n",
    "    \n",
    "toilet = [] # queue\n",
    "time.sort(key=lambda x:x[0])\n",
    "timer = 0\n",
    "maximum = 0\n",
    "while time or toilet:\n",
    "    for t in time:\n",
    "        if t[0] == timer:\n",
    "            toilet.append(time.pop(0)[1])\n",
    "    timer += 1\n",
    "    for i, toil in enumerate(toilet):\n",
    "        if toilet[i] == timer:\n",
    "            toilet.pop(0)\n",
    "    if maximum < len(toilet):\n",
    "        maximum = len(toilet)\n",
    "    \n",
    "print(maximum)\n"
   ]
  },
  {
   "cell_type": "code",
   "execution_count": 31,
   "metadata": {
    "ExecuteTime": {
     "end_time": "2019-09-22T04:16:27.976202Z",
     "start_time": "2019-09-22T04:16:23.132977Z"
    }
   },
   "outputs": [
    {
     "name": "stdout",
     "output_type": "stream",
     "text": [
      "7\n",
      "0 0 0 0 0 0 1\n",
      "6\n"
     ]
    }
   ],
   "source": [
    "n = int(input())\n",
    "seats = [int(x) for x in input().split()]\n",
    "\n",
    "maximum = 0\n",
    "cnt = 0\n",
    "for i, v in enumerate(seats):\n",
    "    \n",
    "    if v == 0 :\n",
    "        cnt += 1\n",
    "        if i+1 == n: #끝이 0이면\n",
    "            if cnt > maximum:\n",
    "                maximum = cnt    \n",
    "    else:\n",
    "        if i-cnt == 0 and seats[i-cnt]==0: #시작이 0이면\n",
    "            if cnt > maximum:\n",
    "                maximum = cnt\n",
    "\n",
    "        if cnt % 2 == 0: #짝수면\n",
    "            if cnt//2 > maximum:\n",
    "                maximum = cnt //2\n",
    "        else:#홀수면\n",
    "            if (cnt+1)//2 > maximum:\n",
    "                maximum = (cnt+1) //2\n",
    "        cnt = 0\n",
    "    # print(cnt)\n",
    "    # print(maximum)\n",
    "print(maximum)"
   ]
  },
  {
   "cell_type": "code",
   "execution_count": 30,
   "metadata": {
    "ExecuteTime": {
     "end_time": "2019-09-22T04:10:41.173817Z",
     "start_time": "2019-09-22T04:10:32.171967Z"
    }
   },
   "outputs": [
    {
     "name": "stdout",
     "output_type": "stream",
     "text": [
      "25 25\n",
      "25 25\n",
      "126410606437752\n",
      "50\n"
     ]
    }
   ],
   "source": [
    "def memo(func):\n",
    "    cache = {}\n",
    "    def wrapper(*args):\n",
    "        if args not in cache:\n",
    "            cache[args] = func(*args)\n",
    "        return cache[args]\n",
    "    return wrapper\n",
    "@memo \n",
    "def dfs(x,y, depth):\n",
    "    global koni\n",
    "    global maximum\n",
    "    if x > koni[0] or y > koni[1]:\n",
    "        return 0\n",
    "    if [x, y] == koni:\n",
    "        maximum = depth\n",
    "        return 1\n",
    "    return dfs(x+1, y, depth+1) + dfs(x, y+1, depth+1)\n",
    "    \n",
    "width, height = [int(x) for x in input().split()]\n",
    "koni = [int(x) for x in input().split()]\n",
    "maximum = 0\n",
    "if koni[0] > width or koni[1] > height or width == 0 or height == 0:\n",
    "    print(fail)\n",
    "else:\n",
    "    print(dfs(0, 0, 0))\n",
    "    print(maximum)"
   ]
  },
  {
   "cell_type": "code",
   "execution_count": 32,
   "metadata": {
    "ExecuteTime": {
     "end_time": "2019-09-22T04:18:07.394268Z",
     "start_time": "2019-09-22T04:18:07.380275Z"
    }
   },
   "outputs": [
    {
     "data": {
      "text/plain": [
       "33554432"
      ]
     },
     "execution_count": 32,
     "metadata": {},
     "output_type": "execute_result"
    }
   ],
   "source": [
    "2**25"
   ]
  },
  {
   "cell_type": "code",
   "execution_count": null,
   "metadata": {},
   "outputs": [],
   "source": [
    "n, align = input().split()\n",
    "n = int(n)\n",
    "numbers = []\n",
    "maxsize = 0\n",
    "for _ in range(n):\n",
    "    size, num = input().split()\n",
    "    if size > maxsize:\n",
    "        maxsize = size\n",
    "    numbers += [int(size), num]\n"
   ]
  },
  {
   "cell_type": "markdown",
   "metadata": {},
   "source": [
    "# Naver"
   ]
  },
  {
   "cell_type": "code",
   "execution_count": 3,
   "metadata": {
    "ExecuteTime": {
     "end_time": "2019-09-22T07:35:44.868960Z",
     "start_time": "2019-09-22T07:35:44.843979Z"
    }
   },
   "outputs": [
    {
     "data": {
      "text/plain": [
       "[None, 1]"
      ]
     },
     "execution_count": 3,
     "metadata": {},
     "output_type": "execute_result"
    }
   ],
   "source": [
    "[None, 1]"
   ]
  }
 ],
 "metadata": {
  "kernelspec": {
   "display_name": "Python 3",
   "language": "python",
   "name": "python3"
  },
  "language_info": {
   "codemirror_mode": {
    "name": "ipython",
    "version": 3
   },
   "file_extension": ".py",
   "mimetype": "text/x-python",
   "name": "python",
   "nbconvert_exporter": "python",
   "pygments_lexer": "ipython3",
   "version": "3.7.3"
  }
 },
 "nbformat": 4,
 "nbformat_minor": 2
}
