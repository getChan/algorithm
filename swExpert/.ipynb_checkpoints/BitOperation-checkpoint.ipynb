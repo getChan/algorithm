{
 "cells": [
  {
   "cell_type": "markdown",
   "metadata": {},
   "source": [
    "* 프로그램에서 비트 연산 적용시 연산 속도 향상, 메모리 절약 가능\n",
    "* ex) 비트단위 &연산자를 이용하여 마지막 비트 확인, 홀짝 구별 가능"
   ]
  },
  {
   "cell_type": "markdown",
   "metadata": {},
   "source": [
    "<h3>1<< n</h3>\n",
    "<ul>2^n의 값을 가짐</ul>\n",
    "<ul>원소가 n개일 경우의 모든 부분집합의 수(power set)</ul>"
   ]
  },
  {
   "cell_type": "markdown",
   "metadata": {},
   "source": [
    "### i&(1<<j)\n",
    "i의 j번째 비트가 1인지 아닌지를 의미"
   ]
  },
  {
   "cell_type": "code",
   "execution_count": 4,
   "metadata": {},
   "outputs": [
    {
     "name": "stdout",
     "output_type": "stream",
     "text": [
      "-5 = 11111011\n",
      "-4 = 11111100\n",
      "-3 = 11111101\n",
      "-2 = 11111110\n",
      "-1 = 11111111\n",
      " 0 = 00000000\n",
      " 1 = 00000001\n",
      " 2 = 00000010\n",
      " 3 = 00000011\n",
      " 4 = 00000100\n",
      " 5 = 00000101\n"
     ]
    }
   ],
   "source": [
    "# 특정 위치의 비트값을 확인하는 수식에 대한 예제\n",
    "def BitPrint(i):\n",
    "    for j in range(7, -1, -1):\n",
    "        print('1' if (i&(1<<j)) else '0', end=\"\")\n",
    "        #print(\"%d\" % ((i>>j)&1), end=\"\")\n",
    "        \n",
    "for i in range(-5, 6):\n",
    "    print(\"%2d = \"%i, end=\"\") # 십진수 출력\n",
    "    BitPrint(i) #이진수 출력\n",
    "    print()"
   ]
  },
  {
   "cell_type": "code",
   "execution_count": 5,
   "metadata": {},
   "outputs": [
    {
     "name": "stdout",
     "output_type": "stream",
     "text": [
      "16 = 00010000\n",
      "01020304 = 00000100 00000011 00000010 00000001 "
     ]
    }
   ],
   "source": [
    "# 4바이트 크기의 인트형 변수에 저장된 값들을 한 바이트씩 읽어서\n",
    "# 비트형태로 출력하는 예제\n",
    "\n",
    "a = 0x10\n",
    "x = 0x01020304\n",
    "print(\"%d = \"%a, end=\"\")\n",
    "BitPrint(a)\n",
    "print()\n",
    "\n",
    "print(\"%08x = \"%x, end=\"\")\n",
    "for i in range(0, 25, 8):\n",
    "    BitPrint(x >> i)\n",
    "    print(end=\" \")"
   ]
  },
  {
   "cell_type": "markdown",
   "metadata": {},
   "source": [
    "엔디안 : 1차원 공간에 연속된 대상을 배열하는 방법<br/>\n",
    "주의 사항 : 바이트 또는 워드 단위를 변환하여 연산할 때 오류를 발생시킬 수 있음\n",
    "* 빅 엔디안 : 큰 단위부터, 네트워크\n",
    "* 리틀 엔디안 : 작은 단위부터, 대다수 데스크탑"
   ]
  },
  {
   "cell_type": "code",
   "execution_count": 6,
   "metadata": {},
   "outputs": [
    {
     "name": "stdout",
     "output_type": "stream",
     "text": [
      "little endian\n"
     ]
    }
   ],
   "source": [
    "# 자신의 컴퓨터가 어떤 엔디안 방식인지 확인하는 코드\n",
    "n = 0x001111111\n",
    "if n & 0x11:\n",
    "    print(\"little endian\")\n",
    "else:\n",
    "    print('big endian')"
   ]
  },
  {
   "cell_type": "code",
   "execution_count": 7,
   "metadata": {},
   "outputs": [
    {
     "name": "stdout",
     "output_type": "stream",
     "text": [
      "a  ==>10000110\n",
      "a^=key==>00101100\n",
      "a^=key ==>10000110\n"
     ]
    }
   ],
   "source": [
    "# 비트 연산자 ^를 두 번 연산하면 처음 값을 반환\n",
    "\n",
    "a = 0x86\n",
    "key = 0xAA\n",
    "print(\"a  ==>\", end=\"\")\n",
    "BitPrint(a)\n",
    "print()\n",
    "print(\"a^=key==>\", end=\"\")\n",
    "a^=key\n",
    "BitPrint(a)\n",
    "print()\n",
    "print(\"a^=key ==>\", end=\"\")\n",
    "a ^= key\n",
    "BitPrint(a)\n",
    "print()"
   ]
  },
  {
   "cell_type": "code",
   "execution_count": null,
   "metadata": {},
   "outputs": [],
   "source": [
    "\"\""
   ]
  }
 ],
 "metadata": {
  "kernelspec": {
   "display_name": "Python 3",
   "language": "python",
   "name": "python3"
  },
  "language_info": {
   "codemirror_mode": {
    "name": "ipython",
    "version": 3
   },
   "file_extension": ".py",
   "mimetype": "text/x-python",
   "name": "python",
   "nbconvert_exporter": "python",
   "pygments_lexer": "ipython3",
   "version": "3.6.5"
  }
 },
 "nbformat": 4,
 "nbformat_minor": 2
}
