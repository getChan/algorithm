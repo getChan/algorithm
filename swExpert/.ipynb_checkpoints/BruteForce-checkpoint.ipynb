{
 "cells": [
  {
   "cell_type": "markdown",
   "metadata": {},
   "source": [
    "* 문제의 해를 얻기 위해 가능한 모든 경우들을 나열해 확인하는 기법\n",
    "* 문제를 해결하기 위한 간단하고 쉬운 접근법\n",
    "* 대부분의 문제에 적용 가능\n",
    "* 문제에 포함된 자료(요소, 인스턴스)의 크기가 작을 경우 유용"
   ]
  },
  {
   "cell_type": "markdown",
   "metadata": {},
   "source": [
    "### 순차 검색\n",
    "* 키 값을 찾기 위해 첫번째부터 비교하면서 진행\n",
    "* 탐색 실패 시 모든 리스트 비교 수행"
   ]
  },
  {
   "cell_type": "markdown",
   "metadata": {},
   "source": [
    "### Baby Gin\n",
    "* 모든 경우의 수 생성 (순열 생성)\n",
    "* 세 자리씩 잘라 판단"
   ]
  },
  {
   "cell_type": "markdown",
   "metadata": {},
   "source": [
    "### 조합적 문제\n",
    "* 순열, 조합, 부분집합과 같은 조합적 문제들과 관련"
   ]
  },
  {
   "cell_type": "markdown",
   "metadata": {},
   "source": [
    "### 순열"
   ]
  },
  {
   "cell_type": "code",
   "execution_count": 1,
   "metadata": {},
   "outputs": [],
   "source": [
    "# 재귀 호출을 통한 순열 생성\n",
    "def permutation(n, k):\n",
    "    if k==n:\n",
    "        print(a)\n",
    "    else:\n",
    "        for i in range(k, n):\n",
    "            a[k],a[i] = a[i],a[k] # 교환을 통한 선택\n",
    "            permutation(n, k+1) # 재귀 호출\n",
    "            a[k],a[i] = a[i],a[k] # 이전 상태로 복귀"
   ]
  },
  {
   "cell_type": "code",
   "execution_count": 6,
   "metadata": {},
   "outputs": [
    {
     "name": "stdout",
     "output_type": "stream",
     "text": [
      "[(1, 2, 3), (1, 3, 2), (2, 1, 3), (2, 3, 1), (3, 1, 2), (3, 2, 1)]\n"
     ]
    }
   ],
   "source": [
    "# 라이브러리를 활용한 순열\n",
    "from itertools import permutations\n",
    "mylist = [1, 2, 3]\n",
    "result = permutations(mylist)\n",
    "print(list(result))"
   ]
  },
  {
   "cell_type": "code",
   "execution_count": 8,
   "metadata": {},
   "outputs": [
    {
     "name": "stdout",
     "output_type": "stream",
     "text": [
      "[(1, 1, 1), (1, 1, 2), (1, 1, 3), (1, 2, 1), (1, 2, 2), (1, 2, 3), (1, 3, 1), (1, 3, 2), (1, 3, 3), (2, 1, 1), (2, 1, 2), (2, 1, 3), (2, 2, 1), (2, 2, 2), (2, 2, 3), (2, 3, 1), (2, 3, 2), (2, 3, 3), (3, 1, 1), (3, 1, 2), (3, 1, 3), (3, 2, 1), (3, 2, 2), (3, 2, 3), (3, 3, 1), (3, 3, 2), (3, 3, 3)]\n"
     ]
    }
   ],
   "source": [
    "# 라이브러리를 활용한 중복순열\n",
    "from itertools import product\n",
    "result = product(mylist, repeat=3)\n",
    "print(list(result))"
   ]
  },
  {
   "cell_type": "markdown",
   "metadata": {},
   "source": [
    "### 부분집합"
   ]
  },
  {
   "cell_type": "code",
   "execution_count": 10,
   "metadata": {},
   "outputs": [
    {
     "name": "stdout",
     "output_type": "stream",
     "text": [
      "\n",
      "2,\n",
      "3,\n",
      "2,3,\n",
      "4,\n",
      "2,4,\n",
      "3,4,\n",
      "2,3,4,\n",
      "5,\n",
      "2,5,\n",
      "3,5,\n",
      "2,3,5,\n",
      "4,5,\n",
      "2,4,5,\n",
      "3,4,5,\n",
      "2,3,4,5,\n"
     ]
    }
   ],
   "source": [
    "# 바이너리 카운팅을 통한 부분집합 생성 코드\n",
    "arr = [2,3,4,5]\n",
    "n = len(arr)\n",
    "\n",
    "for i in range(1<<n): # 1<<m : 부분집합의 개수\n",
    "    for j in range(n): # 원소의 수만큼 비트를 비교함\n",
    "        if i & (1<<j): # i의 j번째 비트가 1이면 j번째 원소 출력\n",
    "            print(arr[j], end=\",\")\n",
    "    print()\n",
    "    "
   ]
  },
  {
   "cell_type": "code",
   "execution_count": 11,
   "metadata": {},
   "outputs": [
    {
     "name": "stdout",
     "output_type": "stream",
     "text": [
      "[]\n",
      "[2]\n",
      "[3]\n",
      "[2, 3]\n",
      "[4]\n",
      "[2, 4]\n",
      "[3, 4]\n",
      "[2, 3, 4]\n",
      "[5]\n",
      "[2, 5]\n",
      "[3, 5]\n",
      "[2, 3, 5]\n",
      "[4, 5]\n",
      "[2, 4, 5]\n",
      "[3, 4, 5]\n",
      "[2, 3, 4, 5]\n"
     ]
    }
   ],
   "source": [
    "arr = [2,3,4,5]\n",
    "for i in range(1<<len(arr)): # 1<<n : 부분집합의 개수\n",
    "    print([arr[j] for j in range(len(arr)) if i & (1<<j)])"
   ]
  },
  {
   "cell_type": "markdown",
   "metadata": {},
   "source": [
    "### 조합"
   ]
  },
  {
   "cell_type": "code",
   "execution_count": 12,
   "metadata": {},
   "outputs": [],
   "source": [
    "# 재귀 호출을 이용한 조합 생성 알고리즘\n",
    "def combination(n, r):\n",
    "    if r==0:\n",
    "        print(tr)\n",
    "    elif n<r :\n",
    "        return\n",
    "    else:\n",
    "        tr[r-1] = an[n-1]\n",
    "        combination(n-1, r-1)\n",
    "        combination(b-1, r)"
   ]
  },
  {
   "cell_type": "code",
   "execution_count": 17,
   "metadata": {},
   "outputs": [
    {
     "name": "stdout",
     "output_type": "stream",
     "text": [
      "[(1, 2), (1, 3), (2, 3)]\n"
     ]
    }
   ],
   "source": [
    "# 파이썬 라이브러리를 활용한 조합\n",
    "import itertools\n",
    "mylist = [1,2,3]\n",
    "result = itertools.combinations(mylist,r=2) # r생략 불가\n",
    "print(list(result))"
   ]
  },
  {
   "cell_type": "code",
   "execution_count": 18,
   "metadata": {},
   "outputs": [
    {
     "name": "stdout",
     "output_type": "stream",
     "text": [
      "[(1, 1), (1, 2), (1, 3), (2, 2), (2, 3), (3, 3)]\n"
     ]
    }
   ],
   "source": [
    "# 파이썬 라이브러리를 활용한 중복조합\n",
    "import itertools\n",
    "mylist = [1,2,3]\n",
    "result = itertools.combinations_with_replacement(mylist,r=2) # r생략 불가\n",
    "print(list(result))"
   ]
  },
  {
   "cell_type": "code",
   "execution_count": null,
   "metadata": {},
   "outputs": [],
   "source": []
  }
 ],
 "metadata": {
  "kernelspec": {
   "display_name": "Python 3",
   "language": "python",
   "name": "python3"
  },
  "language_info": {
   "codemirror_mode": {
    "name": "ipython",
    "version": 3
   },
   "file_extension": ".py",
   "mimetype": "text/x-python",
   "name": "python",
   "nbconvert_exporter": "python",
   "pygments_lexer": "ipython3",
   "version": "3.6.5"
  }
 },
 "nbformat": 4,
 "nbformat_minor": 2
}
