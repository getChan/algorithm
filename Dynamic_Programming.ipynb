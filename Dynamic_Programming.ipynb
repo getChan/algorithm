{
 "cells": [
  {
   "cell_type": "markdown",
   "metadata": {},
   "source": [
    "## 동적 계획법"
   ]
  },
  {
   "cell_type": "markdown",
   "metadata": {},
   "source": [
    "분할 정복과 같은 알고리즘이지만, 답을 여러번 계산하는 대신 계산 결과를 재활용한다.(캐시)"
   ]
  },
  {
   "attachments": {
    "image.png": {
     "image/png": "[encoded data removed]"
    }
   },
   "cell_type": "markdown",
   "metadata": {},
   "source": [
    "대표적 예 ) 이항 계수 : n개의 서로 다른 원소 중 k개의 원소를 순서없이 고르는 방법의 수\n",
    "![image.png](attachment:image.png)"
   ]
  },
  {
   "cell_type": "code",
   "execution_count": 65,
   "metadata": {},
   "outputs": [],
   "source": [
    "# 재귀 호출을 이용한 이항 계수의 계산\n",
    "def bino(n, k):\n",
    "    # 기저 사례 : n=k(모든 원소를 다 고르는 경우) OR k=0(고를 원소가 없는 경우)\n",
    "    if k==0 or n==k:\n",
    "        return 1\n",
    "    print(n, k)\n",
    "    return bino(n-1, k-1) + bino(n-1, k)\n",
    "    "
   ]
  },
  {
   "cell_type": "code",
   "execution_count": 71,
   "metadata": {},
   "outputs": [
    {
     "name": "stdout",
     "output_type": "stream",
     "text": [
      "6 2\n",
      "5 1\n",
      "4 1\n",
      "3 1\n",
      "2 1\n",
      "5 2\n",
      "4 1\n",
      "3 1\n",
      "2 1\n",
      "4 2\n",
      "3 1\n",
      "2 1\n",
      "3 2\n",
      "2 1\n"
     ]
    },
    {
     "data": {
      "text/plain": [
       "15"
      ]
     },
     "execution_count": 71,
     "metadata": {},
     "output_type": "execute_result"
    }
   ],
   "source": [
    "bino(6, 2)"
   ]
  },
  {
   "cell_type": "markdown",
   "metadata": {},
   "source": [
    "Memoization : 한 번 계산한 값을 저장 후 재활용하는 최적화 기법"
   ]
  },
  {
   "cell_type": "markdown",
   "metadata": {},
   "source": [
    "<font color='red'>데코레이터란?</font>"
   ]
  },
  {
   "cell_type": "code",
   "execution_count": 3,
   "metadata": {},
   "outputs": [
    {
     "name": "stdout",
     "output_type": "stream",
     "text": [
      "display_1 함수가 호출되기전 입니다.\n",
      "display_1 함수가 실행됐습니다.\n",
      "display_2 함수가 호출되기전 입니다.\n",
      "display_2 함수가 실행됐습니다.\n"
     ]
    }
   ],
   "source": [
    "# -*- coding: utf-8 -*-\n",
    "def decorator_function(original_function):\n",
    "    def wrapper_function():\n",
    "        print('{} 함수가 호출되기전 입니다.'.format(original_function.__name__))\n",
    "        return original_function()\n",
    "    return wrapper_function\n",
    "\n",
    "\n",
    "@decorator_function  #1\n",
    "def display_1():\n",
    "    print('display_1 함수가 실행됐습니다.')\n",
    "\n",
    "\n",
    "@decorator_function  #2\n",
    "def display_2():\n",
    "    print('display_2 함수가 실행됐습니다.')\n",
    "\n",
    "# display_1 = decorator_function(display_1)  #3\n",
    "# display_2 = decorator_function(display_2)  #4\n",
    "\n",
    "display_1()\n",
    "print\n",
    "display_2()"
   ]
  },
  {
   "cell_type": "markdown",
   "metadata": {},
   "source": [
    "### 데코레이터를 사용한 메모이제이션\n",
    "https://soooprmx.com/archives/5149"
   ]
  },
  {
   "cell_type": "code",
   "execution_count": 67,
   "metadata": {},
   "outputs": [],
   "source": [
    "#메모이제이션 데코레이터 함수\n",
    "# 제약 : 함수는 1개의 인자를 받아야 함, 인자는 딕셔너리의 키가 되어야 함.(hashable)\n",
    "def memoize(func):\n",
    "    tempMemo = dict()\n",
    "    def wrapped(n):\n",
    "        if n in tempMemo:\n",
    "            return tempMemo[n]\n",
    "        result = func(n)\n",
    "        tempMemo[n] = result\n",
    "        return result\n",
    "    return wrapped"
   ]
  },
  {
   "cell_type": "code",
   "execution_count": 68,
   "metadata": {},
   "outputs": [],
   "source": [
    "# 2개의 인자를 받는 메모이제이션\n",
    "from collections import defaultdict\n",
    "def memoize(func):\n",
    "    tempMemo = defaultdict(dict)\n",
    "    def wrapped(n, r):\n",
    "        if n in tempMemo:\n",
    "            if r in tempMemo[n]:\n",
    "                return tempMemo[n][r]\n",
    "        result = func(n, r)\n",
    "        tempMemo[n][r] = result\n",
    "        return result\n",
    "    return wrapped"
   ]
  },
  {
   "cell_type": "code",
   "execution_count": 69,
   "metadata": {},
   "outputs": [],
   "source": [
    "# 메모이제이션을 이용한 이항 계수의 계산\n",
    "@memoize\n",
    "def bino2(n, k):\n",
    "    # 기저 사례\n",
    "    if k==0 or n==k:\n",
    "        return 1\n",
    "    print(n, k)\n",
    "    return bino2(n-1, k-1)+bino2(n-1, k)"
   ]
  },
  {
   "cell_type": "code",
   "execution_count": 70,
   "metadata": {},
   "outputs": [
    {
     "name": "stdout",
     "output_type": "stream",
     "text": [
      "6 2\n",
      "5 1\n",
      "4 1\n",
      "3 1\n",
      "2 1\n",
      "5 2\n",
      "4 2\n",
      "3 2\n"
     ]
    },
    {
     "data": {
      "text/plain": [
       "15"
      ]
     },
     "execution_count": 70,
     "metadata": {},
     "output_type": "execute_result"
    }
   ],
   "source": [
    "# 실행 예\n",
    "bino2(6, 2)"
   ]
  },
  {
   "cell_type": "markdown",
   "metadata": {},
   "source": [
    "#### 메모이제이션 구현 패턴"
   ]
  },
  {
   "cell_type": "markdown",
   "metadata": {},
   "source": [
    "* 항상 기저 사례를 제일 먼저 처리한다.(입력이 범위를 벗어난 경우 등)\n",
    "* 메모이제이션을 초기화한다."
   ]
  },
  {
   "cell_type": "markdown",
   "metadata": {},
   "source": [
    "#### 예제 : 외발 뛰기"
   ]
  },
  {
   "cell_type": "markdown",
   "metadata": {},
   "source": [
    "* 동적 계획법 알고리즘 만들기\n",
    "    * 재귀적 완전 탐색 알고리즘 만들기"
   ]
  },
  {
   "cell_type": "markdown",
   "metadata": {},
   "source": [
    "완전 탐색 경로의 수는 많지만<br/>\n",
    "재귀 함수에 주어지는 입력의 개수는 100**100 밖에 없다</br>\n",
    "#### 그래프(7장)로 모델링하면 간단하게 도달 가능 문제가 된다."
   ]
  },
  {
   "cell_type": "markdown",
   "metadata": {},
   "source": [
    "#### 문제 : 와일드카드"
   ]
  },
  {
   "cell_type": "code",
   "execution_count": null,
   "metadata": {},
   "outputs": [],
   "source": []
  }
 ],
 "metadata": {
  "kernelspec": {
   "display_name": "Python 3",
   "language": "python",
   "name": "python3"
  },
  "language_info": {
   "codemirror_mode": {
    "name": "ipython",
    "version": 3
   },
   "file_extension": ".py",
   "mimetype": "text/x-python",
   "name": "python",
   "nbconvert_exporter": "python",
   "pygments_lexer": "ipython3",
   "version": "3.6.5"
  }
 },
 "nbformat": 4,
 "nbformat_minor": 2
}
